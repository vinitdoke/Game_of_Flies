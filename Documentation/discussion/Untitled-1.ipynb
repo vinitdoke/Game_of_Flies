{
 "cells": [
  {
   "attachments": {},
   "cell_type": "markdown",
   "metadata": {},
   "source": [
    "## State Variables\n",
    "1. position\n",
    "2. velocities\n",
    "3. particle_type_indices"
   ]
  },
  {
   "attachments": {},
   "cell_type": "markdown",
   "metadata": {},
   "source": [
    "## Force Profile\n",
    "### Clusters\n",
    "1. n_particle_types\n",
    "2. parameter_matrix (r_min, r_max, f_max, f_min)\n",
    "3. output -> function_nested_list\n"
   ]
  }
 ],
 "metadata": {
  "kernelspec": {
   "display_name": "work",
   "language": "python",
   "name": "python3"
  },
  "language_info": {
   "name": "python",
   "version": "3.10.9"
  },
  "orig_nbformat": 4,
  "vscode": {
   "interpreter": {
    "hash": "ffaa9ad1f062a54e9bebad49b50e1ddc48e3d7a0be3dd5eec37ce12317b20f55"
   }
  }
 },
 "nbformat": 4,
 "nbformat_minor": 2
}
